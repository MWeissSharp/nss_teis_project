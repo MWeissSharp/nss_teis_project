{
 "cells": [
  {
   "cell_type": "code",
   "execution_count": null,
   "id": "1a516fa8",
   "metadata": {},
   "outputs": [],
   "source": [
    "import numpy as np\n",
    "import pandas as pd\n",
    "import matplotlib.pyplot as plt\n",
    "import seaborn as sns\n",
    "import pickle\n",
    "%matplotlib inline"
   ]
  },
  {
   "cell_type": "code",
   "execution_count": null,
   "id": "12cf3164",
   "metadata": {},
   "outputs": [],
   "source": [
    "with open('../data/teis_final_data.pickle', 'rb') as file:\n",
    "    teis_merge2 = pickle.load(file)"
   ]
  },
  {
   "cell_type": "code",
   "execution_count": null,
   "id": "14426b5b",
   "metadata": {
    "scrolled": true
   },
   "outputs": [],
   "source": [
    "teis_merge2"
   ]
  },
  {
   "cell_type": "markdown",
   "id": "684b52b3",
   "metadata": {},
   "source": [
    "### Bullet 5\n",
    "TEIS provides services to eligible infants and toddlers from birth to age 3 (for this question, only consider cases which have reached the IFSP phase).\n",
    "\n",
    "    -Are there any POE or service coordinators with high rates of early closure (a child exiting before reaching age 3)? \n"
   ]
  },
  {
   "cell_type": "code",
   "execution_count": null,
   "id": "a38a980c",
   "metadata": {},
   "outputs": [],
   "source": [
    "ifsp = teis_merge2.loc[teis_merge2['Child Phase'] == 'IFSP']\n",
    "ifsp.info()"
   ]
  },
  {
   "cell_type": "code",
   "execution_count": null,
   "id": "8eae5ec6",
   "metadata": {
    "scrolled": true
   },
   "outputs": [],
   "source": [
    "ifsp_exit = ifsp.dropna(subset=['Exit Date'])\n",
    "ifsp_exit.info()"
   ]
  },
  {
   "cell_type": "code",
   "execution_count": null,
   "id": "ac7bc67c",
   "metadata": {},
   "outputs": [],
   "source": [
    "ifsp_exit = ifsp_exit.loc[ifsp_exit['Referral Age'] > '0 days']\n",
    "ifsp_exit.info()"
   ]
  },
  {
   "cell_type": "code",
   "execution_count": null,
   "id": "2b82a8a2",
   "metadata": {},
   "outputs": [],
   "source": [
    "all_early_exits = ifsp_exit.loc[ifsp_exit['Exit Age'] < '1092 days']\n",
    "all_early_exits"
   ]
  },
  {
   "cell_type": "code",
   "execution_count": null,
   "id": "ee8e39bf",
   "metadata": {},
   "outputs": [],
   "source": [
    "early_exits = all_early_exits.loc[~all_early_exits['Exit Reason'].isin(['618 - Completion of IFSP/ no longer requires services',\n",
    "                                                                      '618 - Moved out of state', '618 - Deceased'])]\n",
    "early_exits"
   ]
  },
  {
   "cell_type": "code",
   "execution_count": null,
   "id": "1b079fea",
   "metadata": {},
   "outputs": [],
   "source": [
    "POE_exits = ifsp_exit.groupby('POE')['Child ID'].count()\n",
    "POE_exits = POE_exits.to_frame().reset_index()\n",
    "POE_exits = POE_exits.rename(columns = {'Child ID' : 'Total Exits'})\n",
    "POE_exits"
   ]
  },
  {
   "cell_type": "code",
   "execution_count": null,
   "id": "b14ad5cd",
   "metadata": {},
   "outputs": [],
   "source": [
    "POE_early_exits = early_exits.groupby('POE')['Child ID'].count()\n",
    "POE_early_exits = POE_early_exits.to_frame().reset_index()\n",
    "POE_early_exits = POE_early_exits.rename(columns = {'Child ID' : 'Total Early Exits'})\n",
    "POE_early_exits"
   ]
  },
  {
   "cell_type": "code",
   "execution_count": null,
   "id": "e8395b3d",
   "metadata": {},
   "outputs": [],
   "source": [
    "POE_early_exit_rate = pd.merge(POE_exits, POE_early_exits)\n",
    "POE_early_exit_rate['Early Exit Rate'] = round((POE_early_exit_rate['Total Early Exits']/\n",
    "                                                POE_early_exit_rate['Total Exits'])*100, 2)\n",
    "POE_early_exit_rate = POE_early_exit_rate.sort_values('Early Exit Rate')\n",
    "POE_early_exit_rate"
   ]
  },
  {
   "cell_type": "code",
   "execution_count": null,
   "id": "00ca2686",
   "metadata": {},
   "outputs": [],
   "source": [
    "POE_early_exit_rate['Total Early Exits'].sum()/POE_early_exit_rate['Total Exits'].sum()"
   ]
  },
  {
   "cell_type": "code",
   "execution_count": null,
   "id": "da930656",
   "metadata": {},
   "outputs": [],
   "source": [
    "full_palette = [\"#D9ED92\", \"#B5E48C\", \"#99D98C\", \"#76C893\", \"#52B69A\", \"#34A0A4\", \"#168AAD\", \"#1A759F\", \"#1E6091\", \"#184E77\"]\n",
    "\n",
    "main_palette = [\"#76C893\", \"#1E6091\"]"
   ]
  },
  {
   "cell_type": "code",
   "execution_count": null,
   "id": "8795ca6a",
   "metadata": {
    "scrolled": true
   },
   "outputs": [],
   "source": [
    "sns.set_theme(style=\"whitegrid\")\n",
    "eepoe = sns.barplot(x=\"Early Exit Rate\", y=\"POE\", data = POE_early_exit_rate, palette=full_palette)\n",
    "plt.xlabel(\"Early Exit Rate\")\n",
    "plt.ylabel(\"Point of Entry Office\")\n",
    "eepoe.figure.set_size_inches(10, 8)\n",
    "eepoe.axvline(37.65, linestyle = '--', color='#184E77');\n",
    "#plt.savefig('../data/eepoe.png', transparent=True)"
   ]
  },
  {
   "cell_type": "code",
   "execution_count": null,
   "id": "5f33779c",
   "metadata": {
    "scrolled": false
   },
   "outputs": [],
   "source": [
    "POE_svc_early_exits = early_exits.groupby(['POE', 'Service Coordinator'])['Child ID'].count()\n",
    "POE_svc_early_exits = POE_svc_early_exits.to_frame().reset_index()\n",
    "POE_svc_early_exits = POE_svc_early_exits.rename(columns = {'Child ID' : 'Total Early Exits'})\n",
    "POE_svc_early_exits"
   ]
  },
  {
   "cell_type": "code",
   "execution_count": null,
   "id": "1ef88ad2",
   "metadata": {
    "scrolled": true
   },
   "outputs": [],
   "source": [
    "POE_svc_exits = ifsp_exit.groupby(['POE', 'Service Coordinator'])['Child ID'].count()\n",
    "POE_svc_exits = POE_svc_exits.to_frame().reset_index()\n",
    "POE_svc_exits = POE_svc_exits.rename(columns = {'Child ID' : 'Total Exits'})\n",
    "POE_svc_exits = POE_svc_exits.loc[POE_svc_exits['Total Exits'] > 3]\n",
    "POE_svc_exits"
   ]
  },
  {
   "cell_type": "code",
   "execution_count": null,
   "id": "cb3f9388",
   "metadata": {},
   "outputs": [],
   "source": [
    "POE_svc_exits['Service Coordinator'].value_counts()"
   ]
  },
  {
   "cell_type": "code",
   "execution_count": null,
   "id": "add18843",
   "metadata": {},
   "outputs": [],
   "source": [
    "POE_svc_early_exit_rate = pd.merge(POE_svc_exits, POE_svc_early_exits,  how='left')\n",
    "POE_svc_early_exit_rate['Early Exit Rate'] = round((POE_svc_early_exit_rate['Total Early Exits']/\n",
    "                                                POE_svc_early_exit_rate['Total Exits'])*100, 2)\n",
    "POE_svc_early_exit_rate = POE_svc_early_exit_rate.fillna(0)\n",
    "POE_svc_early_exit_rate.sort_values('Early Exit Rate', ascending=False)"
   ]
  },
  {
   "cell_type": "code",
   "execution_count": null,
   "id": "ac44b0b6",
   "metadata": {
    "scrolled": false
   },
   "outputs": [],
   "source": [
    "UC_early_exits = POE_svc_early_exit_rate.loc[POE_svc_early_exit_rate['POE'] == 'UC'].nlargest(5, 'Early Exit Rate')\n",
    "FT_early_exits = POE_svc_early_exit_rate.loc[POE_svc_early_exit_rate['POE'] == 'FT'].nlargest(5, 'Early Exit Rate')\n",
    "NW_early_exits = POE_svc_early_exit_rate.loc[POE_svc_early_exit_rate['POE'] == 'NW'].nlargest(5, 'Early Exit Rate')\n",
    "ET_early_exits = POE_svc_early_exit_rate.loc[POE_svc_early_exit_rate['POE'] == 'ET'].nlargest(5, 'Early Exit Rate')\n",
    "GN_early_exits = POE_svc_early_exit_rate.loc[POE_svc_early_exit_rate['POE'] == 'GN'].nlargest(5, 'Early Exit Rate')\n",
    "SW_early_exits = POE_svc_early_exit_rate.loc[POE_svc_early_exit_rate['POE'] == 'SW'].nlargest(5, 'Early Exit Rate')\n",
    "SE_early_exits = POE_svc_early_exit_rate.loc[POE_svc_early_exit_rate['POE'] == 'SE'].nlargest(5, 'Early Exit Rate')\n",
    "SC_early_exits = POE_svc_early_exit_rate.loc[POE_svc_early_exit_rate['POE'] == 'SC'].nlargest(5, 'Early Exit Rate')\n",
    "MD_early_exits = POE_svc_early_exit_rate.loc[POE_svc_early_exit_rate['POE'] == 'MD'].nlargest(5, 'Early Exit Rate')\n",
    "POE_svc_high_ee = pd.concat([UC_early_exits, FT_early_exits, NW_early_exits, ET_early_exits, GN_early_exits,\n",
    "                              SW_early_exits, SE_early_exits, SC_early_exits, MD_early_exits])\n",
    "POE_svc_high_ee"
   ]
  },
  {
   "cell_type": "code",
   "execution_count": null,
   "id": "e68a9836",
   "metadata": {},
   "outputs": [],
   "source": [
    "sns.set_theme(style=\"whitegrid\")\n",
    "heeft = sns.barplot(x=\"Early Exit Rate\", y=\"Service Coordinator\", data = FT_early_exits, color='#52B69A')\n",
    "heeft.axvline(38.25, linestyle = '--', color='#184E77')\n",
    "plt.title('First Tennessee - Overall Rate 38.25%', fontsize=14)\n",
    "plt.xlabel(\"Early Exit Rate\")\n",
    "plt.ylabel(\"Service Coordinator\")\n",
    "heeft.set(xlim=(0, 100))\n",
    "heeft.figure.set_size_inches(6, 4);\n",
    "#plt.savefig('../data/heeft.png', bbox_inches = 'tight', transparent=True)"
   ]
  },
  {
   "cell_type": "code",
   "execution_count": null,
   "id": "a361267f",
   "metadata": {},
   "outputs": [],
   "source": [
    "sns.set_theme(style=\"whitegrid\")\n",
    "heenw = sns.barplot(x=\"Early Exit Rate\", y=\"Service Coordinator\", data = NW_early_exits, color='#1A759F')\n",
    "heenw.axvline(44.86, linestyle = '--', color='#184E77')\n",
    "plt.title('Northwest - Overall Rate 44.86%', fontsize=14)\n",
    "plt.xlabel(\"Early Exit Rate\")\n",
    "plt.ylabel(\"Service Coordinator\")\n",
    "heenw.set(xlim=(0, 100))\n",
    "heenw.figure.set_size_inches(6, 4);\n",
    "#plt.savefig('../data/heenw.png', bbox_inches = 'tight', transparent=True)"
   ]
  },
  {
   "cell_type": "code",
   "execution_count": null,
   "id": "349fbe99",
   "metadata": {},
   "outputs": [],
   "source": [
    "sns.set_theme(style=\"whitegrid\")\n",
    "heeet = sns.barplot(x=\"Early Exit Rate\", y=\"Service Coordinator\", data = ET_early_exits, color='#168AAD')\n",
    "heeet.axvline(40.35, linestyle = '--', color='#184E77')\n",
    "plt.title('East Tennessee - Overall Rate 40.35%', fontsize=14)\n",
    "plt.xlabel(\"Early Exit Rate\")\n",
    "plt.ylabel(\"Service Coordinator\")\n",
    "heeet.set(xlim=(0, 100))\n",
    "heeet.figure.set_size_inches(6, 4);\n",
    "#plt.savefig('../data/heeet.png', bbox_inches = 'tight', transparent=True)"
   ]
  },
  {
   "cell_type": "code",
   "execution_count": null,
   "id": "b7075f76",
   "metadata": {},
   "outputs": [],
   "source": [
    "sns.set_theme(style=\"whitegrid\")\n",
    "heegn = sns.barplot(x=\"Early Exit Rate\", y=\"Service Coordinator\", data = GN_early_exits, color='#D9ED92')\n",
    "heegn.axvline(31.39, linestyle = '--', color='#184E77')\n",
    "plt.title('Greater Nashville - Overall Rate 31.39%', fontsize=14)\n",
    "plt.xlabel(\"Early Exit Rate\")\n",
    "plt.ylabel(\"Service Coordinator\")\n",
    "heegn.set(xlim=(0, 100))\n",
    "heegn.figure.set_size_inches(6, 4);\n",
    "#plt.savefig('../data/heegn.png', bbox_inches = 'tight', transparent=True)"
   ]
  },
  {
   "cell_type": "code",
   "execution_count": null,
   "id": "e95943c2",
   "metadata": {
    "scrolled": true
   },
   "outputs": [],
   "source": [
    "sns.set_theme(style=\"whitegrid\")\n",
    "heemd = sns.barplot(x=\"Early Exit Rate\", y=\"Service Coordinator\", data = MD_early_exits, color='#76C893')\n",
    "heemd.axvline(36.83, linestyle = '--', color='#184E77')\n",
    "plt.title('Memphis Delta - Overall Rate 36.83%', fontsize=14)\n",
    "plt.xlabel(\"Early Exit Rate\")\n",
    "plt.ylabel(\"Service Coordinator\")\n",
    "heemd.set(xlim=(0, 100))\n",
    "heemd.figure.set_size_inches(6, 4);\n",
    "#plt.savefig('../data/heemd.png', bbox_inches = 'tight', transparent=True)"
   ]
  },
  {
   "cell_type": "code",
   "execution_count": null,
   "id": "a5deed9f",
   "metadata": {},
   "outputs": [],
   "source": [
    "sns.set_theme(style=\"whitegrid\")\n",
    "heese = sns.barplot(x=\"Early Exit Rate\", y=\"Service Coordinator\", data = SE_early_exits, color='#99D98C')\n",
    "heese.axvline(36.33, linestyle = '--', color='#184E77')\n",
    "plt.title('Southeast - Overall Rate 36.33%', fontsize=14)\n",
    "plt.xlabel(\"Early Exit Rate\")\n",
    "plt.ylabel(\"Service Coordinator\")\n",
    "heese.set(xlim=(0, 100))\n",
    "heese.figure.set_size_inches(6, 4);\n",
    "#plt.savefig('../data/heese.png', bbox_inches = 'tight', transparent=True)"
   ]
  },
  {
   "cell_type": "code",
   "execution_count": null,
   "id": "239940c7",
   "metadata": {},
   "outputs": [],
   "source": [
    "sns.set_theme(style=\"whitegrid\")\n",
    "heesc = sns.barplot(x=\"Early Exit Rate\", y=\"Service Coordinator\", data = SC_early_exits, color='#B5E48C')\n",
    "heesc.axvline(33.75, linestyle = '--', color='#184E77')\n",
    "plt.title('South Central - Overall Rate 33.75%', fontsize=14)\n",
    "plt.xlabel(\"Early Exit Rate\")\n",
    "plt.ylabel(\"Service Coordinator\")\n",
    "heesc.set(xlim=(0, 100))\n",
    "heesc.figure.set_size_inches(6, 4);\n",
    "#plt.savefig('../data/heesc.png', bbox_inches = 'tight', transparent=True)"
   ]
  },
  {
   "cell_type": "code",
   "execution_count": null,
   "id": "a679b6cc",
   "metadata": {},
   "outputs": [],
   "source": [
    "sns.set_theme(style=\"whitegrid\")\n",
    "heesw = sns.barplot(x=\"Early Exit Rate\", y=\"Service Coordinator\", data = SW_early_exits, color='#1E6091')\n",
    "heesw.axvline(51.8, linestyle = '--', color='#184E77')\n",
    "plt.title('Southwest - Overall Rate 51.8%', fontsize=14)\n",
    "plt.xlabel(\"Early Exit Rate\")\n",
    "plt.ylabel(\"Service Coordinator\")\n",
    "heesw.set(xlim=(0, 100))\n",
    "heesw.figure.set_size_inches(6, 4);\n",
    "#plt.savefig('../data/heesw.png', bbox_inches = 'tight', transparent=True)"
   ]
  },
  {
   "cell_type": "code",
   "execution_count": null,
   "id": "04c33bce",
   "metadata": {
    "scrolled": false
   },
   "outputs": [],
   "source": [
    "sns.set_theme(style=\"whitegrid\")\n",
    "heeuc = sns.barplot(x=\"Early Exit Rate\", y=\"Service Coordinator\", data = UC_early_exits, color='#34A0A4')\n",
    "heeuc.axvline(39.44, linestyle = '--', color='#184E77')\n",
    "plt.title('Upper Cumberland - Overall Rate 39.44%', fontsize=14)\n",
    "plt.xlabel(\"Early Exit Rate\")\n",
    "plt.ylabel(\"Service Coordinator\")\n",
    "heeuc.set(xlim=(0, 100))\n",
    "heeuc.figure.set_size_inches(6, 4);\n",
    "#plt.savefig('../data/heeuc.png', bbox_inches = 'tight', transparent=True)"
   ]
  },
  {
   "cell_type": "code",
   "execution_count": null,
   "id": "d7762e3e",
   "metadata": {},
   "outputs": [],
   "source": [
    "UC_aa_early_exits = POE_svc_early_exit_rate.loc[((POE_svc_early_exit_rate['POE'] == 'UC') & (POE_svc_early_exit_rate['Early Exit Rate'] > 39.44))]\n",
    "FT_aa_early_exits = POE_svc_early_exit_rate.loc[((POE_svc_early_exit_rate['POE'] == 'FT') & (POE_svc_early_exit_rate['Early Exit Rate'] > 38.25))]\n",
    "NW_aa_early_exits = POE_svc_early_exit_rate.loc[((POE_svc_early_exit_rate['POE'] == 'NW') & (POE_svc_early_exit_rate['Early Exit Rate'] > 44.86))]\n",
    "ET_aa_early_exits = POE_svc_early_exit_rate.loc[((POE_svc_early_exit_rate['POE'] == 'ET') & (POE_svc_early_exit_rate['Early Exit Rate'] > 40.35))]\n",
    "GN_aa_early_exits = POE_svc_early_exit_rate.loc[((POE_svc_early_exit_rate['POE'] == 'GN') & (POE_svc_early_exit_rate['Early Exit Rate'] > 31.39))]\n",
    "SW_aa_early_exits = POE_svc_early_exit_rate.loc[((POE_svc_early_exit_rate['POE'] == 'SW') & (POE_svc_early_exit_rate['Early Exit Rate'] > 51.8))]\n",
    "SE_aa_early_exits = POE_svc_early_exit_rate.loc[((POE_svc_early_exit_rate['POE'] == 'SE') & (POE_svc_early_exit_rate['Early Exit Rate'] > 36.33))]\n",
    "SC_aa_early_exits = POE_svc_early_exit_rate.loc[((POE_svc_early_exit_rate['POE'] == 'SC') & (POE_svc_early_exit_rate['Early Exit Rate'] > 33.75))]\n",
    "MD_aa_early_exits = POE_svc_early_exit_rate.loc[((POE_svc_early_exit_rate['POE'] == 'MD') & (POE_svc_early_exit_rate['Early Exit Rate'] > 36.83))]\n",
    "POE_svc_abavg = pd.concat([UC_aa_early_exits, FT_aa_early_exits, NW_aa_early_exits, ET_aa_early_exits, \n",
    "                           GN_aa_early_exits, SW_aa_early_exits, SE_aa_early_exits, SC_aa_early_exits, MD_aa_early_exits])\n",
    "#POE_svc_abavg"
   ]
  },
  {
   "cell_type": "code",
   "execution_count": null,
   "id": "3677aeb9",
   "metadata": {},
   "outputs": [],
   "source": [
    "POE_abavg_count = POE_svc_abavg.groupby('POE')['Service Coordinator'].count()\n",
    "POE_abavg_count = POE_abavg_count.to_frame().reset_index()\n",
    "POE_abavg_count = POE_abavg_count.rename(columns={'Service Coordinator':'Total Service Coordinators w/ high EER'})\n",
    "POE_abavg_count"
   ]
  },
  {
   "cell_type": "code",
   "execution_count": null,
   "id": "e3b20386",
   "metadata": {
    "scrolled": true
   },
   "outputs": [],
   "source": [
    "POE_svc_abavg.groupby('POE').describe()"
   ]
  },
  {
   "cell_type": "code",
   "execution_count": null,
   "id": "63e4be18",
   "metadata": {
    "scrolled": false
   },
   "outputs": [],
   "source": [
    "POE_svc_exits.groupby('POE').describe()"
   ]
  },
  {
   "cell_type": "code",
   "execution_count": null,
   "id": "5a787a91",
   "metadata": {},
   "outputs": [],
   "source": [
    "POE_svc_count = POE_svc_exits.groupby('POE')['Service Coordinator'].count()\n",
    "POE_svc_count = POE_svc_count.to_frame().reset_index()\n",
    "POE_svc_count = POE_svc_count.rename(columns={'Service Coordinator':'Total Service Coordinators'})\n",
    "POE_svc_count"
   ]
  },
  {
   "cell_type": "code",
   "execution_count": null,
   "id": "56af6286",
   "metadata": {
    "scrolled": false
   },
   "outputs": [],
   "source": [
    "POE_aasvc_rate = pd.merge(POE_svc_count, POE_abavg_count)\n",
    "POE_aasvc_rate['Percent of Service Coordinators with high EE rate'] = round((POE_aasvc_rate['Total Service Coordinators w/ high EER']/\n",
    "                                                POE_aasvc_rate['Total Service Coordinators'])*100, 2)\n",
    "POE_aasvc_rate = POE_aasvc_rate.sort_values('Percent of Service Coordinators with high EE rate')\n",
    "POE_aasvc_rate"
   ]
  },
  {
   "cell_type": "code",
   "execution_count": null,
   "id": "d5c489de",
   "metadata": {},
   "outputs": [],
   "source": [
    "POE_aasvc_rate['Total Service Coordinators w/ high EER'].sum() / POE_aasvc_rate['Total Service Coordinators'].sum()"
   ]
  },
  {
   "cell_type": "code",
   "execution_count": null,
   "id": "bf9ec481",
   "metadata": {},
   "outputs": [],
   "source": []
  }
 ],
 "metadata": {
  "kernelspec": {
   "display_name": "Python 3 (ipykernel)",
   "language": "python",
   "name": "python3"
  },
  "language_info": {
   "codemirror_mode": {
    "name": "ipython",
    "version": 3
   },
   "file_extension": ".py",
   "mimetype": "text/x-python",
   "name": "python",
   "nbconvert_exporter": "python",
   "pygments_lexer": "ipython3",
   "version": "3.9.12"
  }
 },
 "nbformat": 4,
 "nbformat_minor": 5
}
