{
 "cells": [
  {
   "cell_type": "code",
   "execution_count": null,
   "id": "1a516fa8",
   "metadata": {},
   "outputs": [],
   "source": [
    "import numpy as np\n",
    "import pandas as pd\n",
    "import matplotlib.pyplot as plt\n",
    "import seaborn as sns\n",
    "\n",
    "%matplotlib inline"
   ]
  },
  {
   "cell_type": "code",
   "execution_count": null,
   "id": "44fbb163",
   "metadata": {},
   "outputs": [],
   "source": [
    "teis_p = pd.read_csv('../data/teis_p.csv')\n",
    "teis_p.info()"
   ]
  },
  {
   "cell_type": "code",
   "execution_count": null,
   "id": "8e7d1d48",
   "metadata": {},
   "outputs": [],
   "source": [
    "teis_c = pd.read_csv('../data/teis_c.csv')\n",
    "teis_c.info()"
   ]
  },
  {
   "cell_type": "code",
   "execution_count": null,
   "id": "ce57a439",
   "metadata": {},
   "outputs": [],
   "source": [
    "teis_c = teis_c.rename(columns = {'Notification/ Referral Date' : 'Notification Date'})\n",
    "teis_p = teis_p.rename(columns = {'County SES ' : 'County SES'})"
   ]
  },
  {
   "cell_type": "markdown",
   "id": "b084bba8",
   "metadata": {},
   "source": [
    "The next group of cells is experimenting with different ways of joining the two datasets, looking at duplicates, etc."
   ]
  },
  {
   "cell_type": "code",
   "execution_count": null,
   "id": "b22fbb99",
   "metadata": {
    "scrolled": true
   },
   "outputs": [],
   "source": [
    "teis_merge = pd.merge(teis_c, teis_p, how='outer')\n",
    "teis_merge.info()"
   ]
  },
  {
   "cell_type": "code",
   "execution_count": null,
   "id": "aa8363bf",
   "metadata": {},
   "outputs": [],
   "source": [
    "full_teis= pd.concat([teis_c, teis_p])"
   ]
  },
  {
   "cell_type": "code",
   "execution_count": null,
   "id": "48662637",
   "metadata": {},
   "outputs": [],
   "source": [
    "teis_clean = full_teis[~full_teis.duplicated(['POE', 'Child ID', 'DOB', 'County Name', 'County SES', 'Child Phase',\n",
    "       'Active', 'Service Coordinator', 'Notification Date',\n",
    "       'Parent Consent Date', 'Referral Source Type Name',\n",
    "       'Initial Eligibility', 'Initial Eligibility Date', 'Initial IFSP Date',\n",
    "       'Latest IFSP Date', 'Exit Reason', 'Exit Date'])]\n",
    "teis_clean.info()\n",
    "#pulling out rows that are the same across all columns that the two dataframes share"
   ]
  },
  {
   "cell_type": "code",
   "execution_count": null,
   "id": "248a3149",
   "metadata": {},
   "outputs": [],
   "source": [
    "import re\n",
    "from tqdm.notebook import tqdm"
   ]
  },
  {
   "cell_type": "code",
   "execution_count": null,
   "id": "80f0fa34",
   "metadata": {
    "scrolled": true
   },
   "outputs": [],
   "source": [
    "for ind, row in tqdm(teis_clean.iterrows()):\n",
    "    if re.search('\\d{5}', str(row['Exit Date'])):\n",
    "        teis_clean.loc[ind, 'Exit Date'] = np.NaN\n",
    "#this is clearing out the weird data that's in the 'Exit Date' column"
   ]
  },
  {
   "cell_type": "code",
   "execution_count": null,
   "id": "900e99df",
   "metadata": {},
   "outputs": [],
   "source": [
    "teis_clean[['DOB', 'Notification Date', 'Parent Consent Date', 'third DOB', 'Exit Date']] = teis_clean[['DOB', 'Notification Date', 'Parent Consent Date', 'third DOB', 'Exit Date']].apply(pd.to_datetime)\n",
    "teis_clean"
   ]
  },
  {
   "cell_type": "code",
   "execution_count": null,
   "id": "5b062090",
   "metadata": {},
   "outputs": [],
   "source": [
    "teis_clean = teis_clean.drop(columns = ['2012 Child Count', '2013 Child Count', 'Service Coordinator Counter', 'Referral Count',\n",
    "                                        'Evaluation Count', 'Eligibility Count', 'IFSP Count', 'Child Count', ' QTR ', \n",
    "                                       'Referral Source Category'])\n",
    "teis_clean.head(2)\n",
    "#there isn't meaningful data in these columns (at least not for the purposes of this project)"
   ]
  },
  {
   "cell_type": "code",
   "execution_count": null,
   "id": "d04f6fbb",
   "metadata": {
    "scrolled": true
   },
   "outputs": [],
   "source": [
    "all_teis_dups = teis_clean[teis_clean.duplicated(['Child ID', 'Notification Date'], keep=False)].sort_values('Child ID')\n",
    "all_teis_dups\n",
    "#pulling all rows that have 'Child ID' and 'Notification Date' in common to take a look"
   ]
  },
  {
   "cell_type": "code",
   "execution_count": null,
   "id": "b77d1b69",
   "metadata": {},
   "outputs": [],
   "source": [
    "num_all_dup = len(np.unique(np.array(all_teis_dups['Child ID'])))\n",
    "num_all_dup"
   ]
  },
  {
   "cell_type": "code",
   "execution_count": null,
   "id": "03d2b981",
   "metadata": {},
   "outputs": [],
   "source": [
    "county_dups = all_teis_dups[~all_teis_dups.duplicated(['County Name', 'Child ID', 'Notification Date'], keep=False)]\n",
    "county_dups\n",
    "#These are instances when the same referral was noted under 2 different counties"
   ]
  },
  {
   "cell_type": "code",
   "execution_count": null,
   "id": "0caec20b",
   "metadata": {},
   "outputs": [],
   "source": [
    "num_county_dup = len(np.unique(np.array(county_dups['Child ID'])))\n",
    "num_county_dup"
   ]
  },
  {
   "cell_type": "code",
   "execution_count": null,
   "id": "3b782134",
   "metadata": {
    "scrolled": true
   },
   "outputs": [],
   "source": [
    "POE_dups = all_teis_dups[~all_teis_dups.duplicated(['POE', 'Child ID', 'Notification Date'], keep=False)]\n",
    "POE_dups\n",
    "#These are instances when the same referral was noted under 2 different POEs"
   ]
  },
  {
   "cell_type": "code",
   "execution_count": null,
   "id": "066466d0",
   "metadata": {},
   "outputs": [],
   "source": [
    "county_status_dups = county_dups[county_dups.duplicated(['Child ID', 'Child Phase', 'Notification Date'], keep=False)]\n",
    "county_status_dups\n",
    "#looking at the duplicates that have different counties but the same status"
   ]
  },
  {
   "cell_type": "code",
   "execution_count": null,
   "id": "685cd15f",
   "metadata": {},
   "outputs": [],
   "source": [
    "teis_c[teis_c.duplicated(['Child ID', 'Notification Date'], keep=False)]\n",
    "#reconfirming that this original dataframe doesn't have any rows that have the same Child ID and Notification Date"
   ]
  },
  {
   "cell_type": "markdown",
   "id": "fc326c45",
   "metadata": {},
   "source": [
    "#### Notes on our decisions regarding how to most effectively merge our data\n",
    "After exploring the duplicate data, we decided to drop all columns from the teis_c dataframe that it shares with the teis_p dataframe except for Child ID and Notification Date. This will allow us to merge without creating any duplicates, keep the \"extra\" columns in teis_c, and per the folks at TEIS, the data from the teis_p dataframe should supercede any from the teis_c dataframe because it is more current"
   ]
  },
  {
   "cell_type": "code",
   "execution_count": null,
   "id": "b77d34a2",
   "metadata": {},
   "outputs": [],
   "source": [
    "teis_c2 = teis_c.drop(columns = ['POE', 'DOB', 'County Name', 'County SES', 'Child Phase', 'Active', 'Service Coordinator', \n",
    "                                 'Parent Consent Date', 'Referral Source Type Name', 'Initial Eligibility', 'Initial Eligibility Date', 'Initial IFSP Date', 'Latest IFSP Date', 'Exit Reason', 'Exit Date',\n",
    "                                 '2012 Child Count', '2013 Child Count', 'Service Coordinator Counter', 'Referral Count', \n",
    "                                 'Evaluation Count', 'Eligibility Count', 'IFSP Count', 'Child Count', ' QTR ', \n",
    "                                 'Referral Source Category'])\n",
    "teis_c2"
   ]
  },
  {
   "cell_type": "code",
   "execution_count": null,
   "id": "61bfe209",
   "metadata": {
    "scrolled": true
   },
   "outputs": [],
   "source": [
    "teis_merge3 = pd.merge(teis_c2, teis_p, how='outer').sort_values(['Child ID'])\n",
    "teis_merge3"
   ]
  },
  {
   "cell_type": "code",
   "execution_count": null,
   "id": "6d501382",
   "metadata": {
    "scrolled": true
   },
   "outputs": [],
   "source": [
    "teis_merge3[['DOB', 'Notification Date', 'Parent Consent Date', 'third DOB', 'Exit Date']] = teis_merge3[['DOB', 'Notification Date', 'Parent Consent Date', 'third DOB', 'Exit Date']].apply(pd.to_datetime)\n",
    "teis_merge3.info()"
   ]
  },
  {
   "cell_type": "code",
   "execution_count": null,
   "id": "de1c28dd",
   "metadata": {
    "scrolled": false
   },
   "outputs": [],
   "source": [
    "teis_c3 = teis_c.drop(columns = ['2012 Child Count', '2013 Child Count', 'Service Coordinator Counter', 'Referral Count', \n",
    "                                 'Evaluation Count', 'Eligibility Count', 'IFSP Count', 'Child Count', ' QTR ', \n",
    "                                 'Referral Source Category'])\n",
    "teis_c3"
   ]
  },
  {
   "cell_type": "code",
   "execution_count": null,
   "id": "e5a479eb",
   "metadata": {},
   "outputs": [],
   "source": [
    "for ind, row in tqdm(teis_c3.iterrows()):\n",
    "    if re.search('\\d{5}', str(row['Exit Date'])):\n",
    "        teis_c3.loc[ind, 'Exit Date'] = np.NaN"
   ]
  },
  {
   "cell_type": "code",
   "execution_count": null,
   "id": "524a556f",
   "metadata": {
    "scrolled": true
   },
   "outputs": [],
   "source": [
    "teis_c3[['DOB', 'Notification Date', 'Parent Consent Date', 'third DOB', 'Exit Date']] = teis_c3[['DOB', 'Notification Date', 'Parent Consent Date', 'third DOB', 'Exit Date']].apply(pd.to_datetime)\n",
    "teis_c3"
   ]
  },
  {
   "cell_type": "code",
   "execution_count": null,
   "id": "b307a733",
   "metadata": {
    "scrolled": true
   },
   "outputs": [],
   "source": [
    "teis_merge2 = pd.merge(teis_merge3, teis_c3, on=['Child ID', 'Notification Date'], how='left')\n",
    "teis_merge2.info()\n",
    "##Need to do this to bring back in the data for the rows in our merge that were present only in teis_c"
   ]
  },
  {
   "cell_type": "code",
   "execution_count": null,
   "id": "ededd193",
   "metadata": {
    "scrolled": false
   },
   "outputs": [],
   "source": [
    "teis_merge2['Referral Source Type Name_x'] = teis_merge2['Referral Source Type Name_x'].fillna(teis_merge2['Referral Source Type Name_y'])\n",
    "teis_merge2['Late Referral_x'] = teis_merge2['Late Referral_x'].fillna(teis_merge2['Late Referral_y'])\n",
    "teis_merge2['Qtr_x'] = teis_merge2['Qtr_x'].fillna(teis_merge2['Qtr_y'])\n",
    "teis_merge2['POE_x'] = teis_merge2['POE_x'].fillna(teis_merge2['POE_y'])\n",
    "teis_merge2['DOB_x'] = teis_merge2['DOB_x'].fillna(teis_merge2['DOB_y'])\n",
    "teis_merge2['County Name_x'] = teis_merge2['County Name_x'].fillna(teis_merge2['County Name_y'])\n",
    "teis_merge2['County SES_x'] = teis_merge2['County SES_x'].fillna(teis_merge2['County SES_y'])\n",
    "teis_merge2['Child Phase_x'] = teis_merge2['Child Phase_x'].fillna(teis_merge2['Child Phase_y'])\n",
    "teis_merge2['Service Coordinator_x'] = teis_merge2['Service Coordinator_x'].fillna(teis_merge2['Service Coordinator_y'])\n",
    "teis_merge2['Parent Consent Date_x'] = teis_merge2['Parent Consent Date_x'].fillna(teis_merge2['Parent Consent Date_y'])\n",
    "teis_merge2['Initial Eligibility_x'] = teis_merge2['Initial Eligibility_x'].fillna(teis_merge2['Initial Eligibility_y'])\n",
    "teis_merge2['Initial Eligibility Date_x'] = teis_merge2['Initial Eligibility Date_x'].fillna(teis_merge2['Initial Eligibility Date_y'])\n",
    "teis_merge2['Initial IFSP Date_x'] = teis_merge2['Initial IFSP Date_x'].fillna(teis_merge2['Initial IFSP Date_y'])\n",
    "teis_merge2['Latest IFSP Date_x'] = teis_merge2['Latest IFSP Date_x'].fillna(teis_merge2['Latest IFSP Date_y'])\n",
    "teis_merge2['Exit Reason_x'] = teis_merge2['Exit Reason_x'].fillna(teis_merge2['Exit Reason_y'])\n",
    "teis_merge2['Exit Date_x'] = teis_merge2['Exit Date_x'].fillna(teis_merge2['Exit Date_x'])\n",
    "teis_merge2.info()\n",
    "#pulling data from the teis_c3 dataframe into the columns that originated from the teis_merge3 dataframe but had null values"
   ]
  },
  {
   "cell_type": "code",
   "execution_count": null,
   "id": "b54cb38a",
   "metadata": {},
   "outputs": [],
   "source": [
    "teis_merge2 = teis_merge2.drop(columns = ['POE_y', 'DOB_y', 'County Name_y', 'County SES_y', 'Child Phase_y', 'Active_y',\n",
    "                                          'Service Coordinator_y', 'Parent Consent Date_y', 'Referral Source Type Name_y', \n",
    "                                          'Initial Eligibility_y', 'Initial Eligibility Date_y', 'Initial IFSP Date_y',\n",
    "                                          'Latest IFSP Date_y', 'Exit Reason_y', 'Exit Date_y', 'Fiscal Year_y',\n",
    "                                          'Notification Month_y', 'Tenn Region_y', 'Fiscal Year.1_y', 'third DOB_y', \n",
    "                                          'Late Referral_y', 'Qtr_y'])\n",
    "teis_merge2.info()\n",
    "#dropping the no longer needed columns now that we have the cells needed"
   ]
  },
  {
   "cell_type": "code",
   "execution_count": null,
   "id": "a0f6d675",
   "metadata": {},
   "outputs": [],
   "source": [
    "teis_merge2 = teis_merge2.rename(columns= {'Fiscal Year_x': 'Fiscal Year',\n",
    "                                           'Notification Month_x' : 'Notification Month', \n",
    "                                           'Tenn Region_x' : 'Tenn Region', \n",
    "                                           'Fiscal Year.1_x' : 'Fiscal Year.1',\n",
    "                                           'third DOB_x' : 'third_DOB',\n",
    "                                           'Late Referral_x' : 'Late Referral',\n",
    "                                           'Qtr_x' : 'Qtr',\n",
    "                                           'POE_x' : 'POE',\n",
    "                                           'DOB_x' : 'DOB',\n",
    "                                           'County Name_x' : 'County Name',\n",
    "                                           'County SES_x' : 'County SES',\n",
    "                                           'Child Phase_x' : 'Child Phase',\n",
    "                                           'Active_x' : 'Active',\n",
    "                                           'Service Coordinator_x' : 'Service Coordinator',\n",
    "                                           'Parent Consent Date_x' : 'Parent Consent',\n",
    "                                           'Referral Source Type Name_x' : 'Referral Source Type Name',\n",
    "                                           'Initial Eligibility_x' : 'Initial Eligibility',\n",
    "                                           'Initial Eligibility Date_x' : 'Initial Eligibility Date',\n",
    "                                           'Initial IFSP Date_x' : 'Initial IFSP Date',\n",
    "                                           'Latest IFSP Date_x' : 'Latest IFSP',\n",
    "                                           'Exit Reason_x' : 'Exit Reason',\n",
    "                                           'Exit Date_x' : 'Exit Date'})\n",
    "teis_merge2.info()\n",
    "#renaming columns to get rid of the '_x'"
   ]
  },
  {
   "cell_type": "code",
   "execution_count": null,
   "id": "130b573c",
   "metadata": {},
   "outputs": [],
   "source": [
    "teis_merge2['Year'] = teis_merge2['Notification Date'].dt.year\n",
    "teis_merge2.head(2)"
   ]
  },
  {
   "cell_type": "code",
   "execution_count": null,
   "id": "ed3c2e9f",
   "metadata": {
    "scrolled": true
   },
   "outputs": [],
   "source": [
    "all_dups2 = teis_merge2[teis_merge2.duplicated(['Child ID', 'Notification Date'], keep=False)].sort_values('Child ID')\n",
    "all_dups2\n",
    "#making sure that there aren't any unanticipated duplicates"
   ]
  },
  {
   "cell_type": "code",
   "execution_count": null,
   "id": "3e261323",
   "metadata": {
    "scrolled": true
   },
   "outputs": [],
   "source": [
    "teis_merge2['Referral Age'] = teis_merge2['Notification Date']-teis_merge2['DOB']\n",
    "teis_merge2['Exit Age'] = teis_merge2['Exit Date']-teis_merge2['DOB']\n",
    "teis_merge2 = teis_merge2.rename(columns ={'Year' : 'Notification Year'})\n",
    "teis_merge2"
   ]
  },
  {
   "cell_type": "code",
   "execution_count": null,
   "id": "3d7a3cf0",
   "metadata": {
    "scrolled": true
   },
   "outputs": [],
   "source": [
    "teis_merge2 = teis_merge2[['Child ID', 'DOB', 'Notification Date', 'Referral Age', 'Referral Source Type Name', 'Child Phase',\n",
    "                           'Exit Reason', 'Exit Date', 'Exit Age', 'Service Coordinator', 'Parent Consent', 'Initial Eligibility', \n",
    "                           'Initial Eligibility Date', 'Initial IFSP Date', 'Latest IFSP', 'Late Referral', 'third_DOB', 'POE',\n",
    "                           'County Name', 'County SES', 'Tenn Region', 'Fiscal Year', 'Fiscal Year.1', 'Notification Month','Qtr',\n",
    "                           'Notification Year', 'Active']]\n",
    "teis_merge2"
   ]
  },
  {
   "cell_type": "code",
   "execution_count": null,
   "id": "ad3fb746",
   "metadata": {},
   "outputs": [],
   "source": [
    "#POE_svc_abavg.to_excel('../data/Service_Coordinators_Above_Avg_Early_Exit_Rate.xlsx')"
   ]
  },
  {
   "cell_type": "markdown",
   "id": "cd2b45e6",
   "metadata": {},
   "source": [
    "### Pickle File\n",
    "   "
   ]
  },
  {
   "cell_type": "markdown",
   "id": "692dc3d3",
   "metadata": {},
   "source": [
    "import pickle\n",
    "#to create a pickle file:\n",
    "with open('../data/teis_final_data.pickle', 'wb') as file:\n",
    "    pickle.dump(teis_merge2, file)\n",
    "#wb means write bytes, aka write a file\n",
    "#rb means read bytes"
   ]
  },
  {
   "cell_type": "markdown",
   "id": "69cdc0ef",
   "metadata": {},
   "source": [
    "#to read in a pickle file:\n",
    "with open('../data/teis_final_data.pickle', 'rb') as file:\n",
    "    final_data = pickle.load(file)"
   ]
  },
  {
   "cell_type": "markdown",
   "id": "eb5faecc",
   "metadata": {},
   "source": [
    "final_data"
   ]
  },
  {
   "cell_type": "markdown",
   "id": "3ad32be0",
   "metadata": {},
   "source": [
    "### Bullet 1\n",
    "    -What is the rate of re-referral? \n",
    "    -How many children have multiple referrals (by year or by Point of Entry Office (POE))?"
   ]
  },
  {
   "cell_type": "code",
   "execution_count": null,
   "id": "ad87b951",
   "metadata": {
    "scrolled": true
   },
   "outputs": [],
   "source": [
    "reref = teis_merge2[teis_merge2.duplicated('Child ID')].sort_values('Child ID')\n",
    "reref.info()\n",
    "#pulling out all instances when a child had a second, third, etc. referral"
   ]
  },
  {
   "cell_type": "code",
   "execution_count": null,
   "id": "441d2cb1",
   "metadata": {},
   "outputs": [],
   "source": [
    "num_reref = len(np.unique(np.array(reref['Child ID'])))\n",
    "num_reref\n",
    "#number of children who had 2 or more referrals"
   ]
  },
  {
   "cell_type": "code",
   "execution_count": null,
   "id": "322956cb",
   "metadata": {},
   "outputs": [],
   "source": [
    "refsou_reref = reref.groupby(['Referral Source Type Name'])['Child ID'].count()\n",
    "refsou_reref = refsou_reref.to_frame().reset_index()\n",
    "refsou_reref = refsou_reref.rename(columns = {'Child ID' : 'Total Re-referrals'})\n",
    "refsou_reref\n",
    "#Child ID count of re-referrals by Referral Source Type Name"
   ]
  },
  {
   "cell_type": "code",
   "execution_count": null,
   "id": "3ef3106b",
   "metadata": {},
   "outputs": [],
   "source": [
    "refsou_ref = teis_merge2.groupby(['Referral Source Type Name'])['Child ID'].count()\n",
    "refsou_ref = refsou_ref.to_frame().reset_index()\n",
    "refsou_ref = refsou_ref.rename(columns = {'Child ID' : 'Total Referrals'})\n",
    "refsou_ref\n",
    "#Child ID count of re-referrals by Referral Source Type Name"
   ]
  },
  {
   "cell_type": "code",
   "execution_count": null,
   "id": "a83330c5",
   "metadata": {},
   "outputs": [],
   "source": [
    "refsou_rerate = pd.merge(refsou_reref, refsou_ref, how='left').fillna(0)\n",
    "refsou_rerate['Re-referral Rate'] = (refsou_rerate['Total Re-referrals'] / refsou_rerate['Total Referrals'])*100\n",
    "refsou_rerate['Proportion of Referrals'] = (refsou_rerate['Total Referrals'] / refsou_rerate['Total Referrals'].sum()) * 100\n",
    "refsou_rerate['Proportion of Re-referrals'] = (refsou_rerate['Total Re-referrals'] / refsou_rerate['Total Re-referrals'].sum()) * 100\n",
    "refsou_rerate"
   ]
  },
  {
   "cell_type": "code",
   "execution_count": null,
   "id": "496dc34c",
   "metadata": {},
   "outputs": [],
   "source": [
    "poe_reref = reref.groupby(['POE'])['Child ID'].count()\n",
    "poe_reref = poe_reref.to_frame().reset_index()\n",
    "poe_reref = poe_reref.rename(columns = {'Child ID' : 'Total Re-referrals'})\n",
    "poe_reref\n",
    "#Child ID count of re-referrals by Point of Entry"
   ]
  },
  {
   "cell_type": "code",
   "execution_count": null,
   "id": "05f99524",
   "metadata": {},
   "outputs": [],
   "source": [
    "poe_ref = teis_merge2.groupby(['POE'])['Child ID'].count()\n",
    "poe_ref = poe_ref.to_frame().reset_index()\n",
    "poe_ref = poe_ref.rename(columns = {'Child ID' : 'Total Referrals'})\n",
    "poe_ref\n",
    "#Child ID count of re-referrals by Point of Entry"
   ]
  },
  {
   "cell_type": "code",
   "execution_count": null,
   "id": "a1b514a1",
   "metadata": {},
   "outputs": [],
   "source": [
    "poe_rerate = pd.merge(poe_ref, poe_reref, how='left').fillna(0)\n",
    "poe_rerate['Re-referral Rate'] = (poe_rerate['Total Re-referrals'] / poe_rerate['Total Referrals'])*100\n",
    "poe_rerate"
   ]
  },
  {
   "cell_type": "code",
   "execution_count": null,
   "id": "325bfefe",
   "metadata": {},
   "outputs": [],
   "source": [
    "yr_reref = reref.groupby(['Notification Year'])['Child ID'].count()\n",
    "yr_reref = yr_reref.to_frame().reset_index()\n",
    "yr_reref = yr_reref.rename(columns = {'Child ID' : 'Total Re-referrals'})\n",
    "yr_reref\n",
    "#Child ID count of re-referrals by Year"
   ]
  },
  {
   "cell_type": "code",
   "execution_count": null,
   "id": "0929b043",
   "metadata": {},
   "outputs": [],
   "source": [
    "yr_ref = teis_merge2.groupby(['Notification Year'])['Child ID'].count()\n",
    "yr_ref = yr_ref.to_frame().reset_index()\n",
    "yr_ref = yr_ref.rename(columns = {'Child ID' : 'Total Referrals'})\n",
    "yr_ref\n",
    "#Child ID count of re-referrals by Year"
   ]
  },
  {
   "cell_type": "code",
   "execution_count": null,
   "id": "05bf467d",
   "metadata": {},
   "outputs": [],
   "source": [
    "yr_rerate = pd.merge(yr_ref, yr_reref, how='left').fillna(0)\n",
    "yr_rerate['Re-referral Rate'] = (yr_rerate['Total Re-referrals'] / yr_rerate['Total Referrals'])*100\n",
    "yr_rerate"
   ]
  },
  {
   "cell_type": "code",
   "execution_count": null,
   "id": "f9edc502",
   "metadata": {},
   "outputs": [],
   "source": [
    "poey_reref = reref.groupby(['POE', 'Notification Year'])['Child ID'].count()\n",
    "poey_reref = poey_reref.to_frame().reset_index()\n",
    "poey_reref = poey_reref.rename(columns = {'Child ID' : 'Total Re-referrals'})\n",
    "poey_reref"
   ]
  },
  {
   "cell_type": "code",
   "execution_count": null,
   "id": "d23aab4a",
   "metadata": {},
   "outputs": [],
   "source": [
    "poey_ref = teis_merge2.groupby(['POE', 'Notification Year'])['Child ID'].count()\n",
    "poey_ref = poey_ref.to_frame().reset_index()\n",
    "poey_ref = poey_ref.rename(columns = {'Child ID' : 'Total Referrals'})\n",
    "poey_ref"
   ]
  },
  {
   "cell_type": "code",
   "execution_count": null,
   "id": "c9f116aa",
   "metadata": {},
   "outputs": [],
   "source": [
    "poey_rerate = pd.merge(poey_ref, poey_reref, how='left').fillna(0)\n",
    "poey_rerate['Re-referral Rate'] = (poey_rerate['Total Re-referrals'] / poey_rerate['Total Referrals'])*100\n",
    "poey_rerate"
   ]
  },
  {
   "cell_type": "code",
   "execution_count": null,
   "id": "c000dc68",
   "metadata": {
    "scrolled": false
   },
   "outputs": [],
   "source": [
    "ti = sns.FacetGrid(poey_rerate, col=\"POE\", col_wrap=3, hue=\"POE\", palette = 'CMRmap_r')\n",
    "ti.map_dataframe(sns.lineplot, x=\"Notification Year\", y=\"Re-referral Rate\")\n",
    "ti.set_axis_labels(\"Year\", \"Re-referral Rate\");"
   ]
  },
  {
   "cell_type": "code",
   "execution_count": null,
   "id": "4aa04b77",
   "metadata": {},
   "outputs": [],
   "source": [
    "tij = sns.lineplot(x=\"Notification Year\", y=\"Re-referral Rate\", data=poey_rerate, hue=\"POE\", palette = 'CMRmap_r')\n",
    "tij.figure.set_size_inches(14, 10);"
   ]
  },
  {
   "cell_type": "markdown",
   "id": "8381e8d0",
   "metadata": {},
   "source": [
    "#### POE List\n",
    "    - FT: First Tennessee\n",
    "    - UC: Upper Cumberland\n",
    "    - NW Northwest\n",
    "    - ET: East Tennessee\n",
    "    - GN: Greater Nashville\n",
    "    - SW: Southwest\n",
    "    - SE: Southeast\n",
    "    - SC: South Central\n",
    "    - MD: Memphis Delta"
   ]
  },
  {
   "cell_type": "markdown",
   "id": "1df67996",
   "metadata": {},
   "source": [
    "### Bullet 2\n",
    "A referral is considered a \"successful\" referral if it results in an Individualized Family Service Plan (IFSP). \n",
    "\n",
    "    -Are there referral sources that have had higher rates of successful referrals? \n",
    "\n",
    "You can determine whether a referral was successful by looking at whether the Initial IFSP Date column is filled in or whether the Child Phase column is equal to IFSP."
   ]
  },
  {
   "cell_type": "code",
   "execution_count": null,
   "id": "330fc553",
   "metadata": {},
   "outputs": [],
   "source": [
    "ifsp = teis_merge2.loc[teis_merge2['Child Phase'] == 'IFSP']\n",
    "ifsp.info()\n",
    "#children who reach the phase of 'IFSP'"
   ]
  },
  {
   "cell_type": "code",
   "execution_count": null,
   "id": "37973c0d",
   "metadata": {
    "scrolled": true
   },
   "outputs": [],
   "source": [
    "refsou_suc = ifsp.groupby(['Referral Source Type Name'])['Child ID'].count()\n",
    "refsou_suc = refsou_suc.to_frame().reset_index()\n",
    "refsou_suc = refsou_suc.rename(columns = {'Child ID' : 'Total Successful Referrals'})\n",
    "refsou_suc\n",
    "#Child ID count for successful referrals by referral source (as defined by reaching IFSP phase)"
   ]
  },
  {
   "cell_type": "code",
   "execution_count": null,
   "id": "31348a91",
   "metadata": {},
   "outputs": [],
   "source": [
    "refsou_sucrate = pd.merge(refsou_ref, refsou_suc, how='left').fillna(0)\n",
    "refsou_sucrate['Success Rate'] = (refsou_sucrate['Total Successful Referrals'] / refsou_sucrate['Total Referrals'])*100\n",
    "refsou_sucrate"
   ]
  },
  {
   "cell_type": "code",
   "execution_count": null,
   "id": "7ff777ee",
   "metadata": {},
   "outputs": [],
   "source": []
  },
  {
   "cell_type": "markdown",
   "id": "1bc2a220",
   "metadata": {},
   "source": [
    "### Bullet 3\n",
    "Some areas of potential concern are POEs having a:\n",
    "\n",
    "        -low proportion of referrals, \n",
    "        -a high average age of referrals, \n",
    "        -a low percent of total referrals resulting in an IFSP or \n",
    "        -a lower percent of eligible referrals resulting in an IFSP. \n",
    "        \n",
    "    -How do POEs compare on these metrics, and \n",
    "    -which POEs are of concern on the basis of one or more of the listed criteria?"
   ]
  },
  {
   "cell_type": "code",
   "execution_count": null,
   "id": "1bffcb90",
   "metadata": {},
   "outputs": [],
   "source": [
    "teis_merge2.columns"
   ]
  },
  {
   "cell_type": "code",
   "execution_count": null,
   "id": "4fe5750b",
   "metadata": {},
   "outputs": [],
   "source": [
    "teis_merge2.loc[teis_merge2['Referral Age'] < '0 days']\n",
    "#there is one child whose birthdate must be wrong because they have a negative age at time of referral"
   ]
  },
  {
   "cell_type": "code",
   "execution_count": null,
   "id": "466a530a",
   "metadata": {},
   "outputs": [],
   "source": [
    "teis_merge2.loc[teis_merge2['Child ID'] == 393629]\n",
    "#Confirming that child only appears once in the table, so can't correct the birthdate"
   ]
  },
  {
   "cell_type": "code",
   "execution_count": null,
   "id": "c591d91b",
   "metadata": {
    "scrolled": true
   },
   "outputs": [],
   "source": [
    "teis_merge2 = teis_merge2.loc[teis_merge2['Referral Age'] >= '0 days']\n",
    "#dropping the instance of a negative age so that it doesn't skew the average for that POE"
   ]
  },
  {
   "cell_type": "code",
   "execution_count": null,
   "id": "da6b782c",
   "metadata": {
    "scrolled": true
   },
   "outputs": [],
   "source": [
    "teis_merge2['Referral Age'].describe()"
   ]
  },
  {
   "cell_type": "code",
   "execution_count": null,
   "id": "400c0ef6",
   "metadata": {},
   "outputs": [],
   "source": [
    "poe_ref_prop = poe_ref\n",
    "poe_ref_prop['Proportion of Referrals'] = (poe_ref_prop['Total Referrals']/poe_ref_prop['Total Referrals'].sum())*100\n",
    "poe_ref_prop\n",
    "#finding what proportion of total referrals each POE handles"
   ]
  },
  {
   "cell_type": "markdown",
   "id": "243ccd50",
   "metadata": {},
   "source": [
    "It appears that the Northwest and Southwest POEs have particularly low proportions of referrals. I would like to see if there's a way to pull population data in to see if that correlates, though."
   ]
  },
  {
   "cell_type": "code",
   "execution_count": null,
   "id": "5052ea44",
   "metadata": {},
   "outputs": [],
   "source": [
    "poe_ref_age = teis_merge2.groupby(['POE'])['Referral Age'].mean()\n",
    "poe_ref_age = poe_ref_age.to_frame().sort_values('Referral Age')\n",
    "poe_ref_age = poe_ref_age.rename(columns = {'Referral Age' : 'Avg Referral Age in days'})\n",
    "poe_ref_age['Avg Referral Age in months'] = (poe_ref_age['Avg Referral Age in days']).astype('timedelta64[M]')\n",
    "poe_ref_age['Difference from Overall Avg in days'] = (poe_ref_age['Avg Referral Age in days']-(teis_merge2['Referral Age'].mean())).astype('timedelta64[D]')\n",
    "poe_ref_age['Avg Referral Age in days'] = (poe_ref_age['Avg Referral Age in days']).astype('timedelta64[D]')\n",
    "poe_ref_age"
   ]
  },
  {
   "cell_type": "markdown",
   "id": "88be7074",
   "metadata": {},
   "source": [
    "Greater Nashville and South Central may be of concern in this area because there are just over a month and just under two months, respectively, above the overall average age of referral"
   ]
  },
  {
   "cell_type": "code",
   "execution_count": null,
   "id": "abdcf167",
   "metadata": {},
   "outputs": [],
   "source": [
    "poe_suc = ifsp.groupby(['POE'])['Child ID'].count()\n",
    "poe_suc = poe_suc.to_frame().reset_index()\n",
    "poe_suc = poe_suc.rename(columns = {'Child ID' : 'Total Successful Referrals'})\n",
    "poe_suc"
   ]
  },
  {
   "cell_type": "code",
   "execution_count": null,
   "id": "3f22f39d",
   "metadata": {},
   "outputs": [],
   "source": [
    "poe_sucrate = pd.merge(poe_ref, poe_suc, how='left').fillna(0)\n",
    "poe_sucrate['Referral Success Rate'] = (poe_sucrate['Total Successful Referrals'] / poe_ref['Total Referrals'])*100\n",
    "poe_sucrate"
   ]
  },
  {
   "cell_type": "code",
   "execution_count": null,
   "id": "7a5250f9",
   "metadata": {},
   "outputs": [],
   "source": []
  },
  {
   "cell_type": "markdown",
   "id": "7bfb69c2",
   "metadata": {},
   "source": [
    "### Bullet 4\n",
    "Look for patterns in referrals and re-referrals on the basis of the following:\n",
    "\n",
    "    - Age\n",
    "    - Referral source\n",
    "    - Socioeconomic status (County SES)"
   ]
  },
  {
   "cell_type": "markdown",
   "id": "684b52b3",
   "metadata": {},
   "source": [
    "### Bullet 5\n",
    "TEIS provides services to eligible infants and toddlers from birth to age 3. \n",
    "\n",
    "    -Are there any POE or service coordinators with high rates of early closure (a child exiting before reaching age 3)? \n",
    "    -For this question, only consider cases which have reached the IFSP phase."
   ]
  },
  {
   "cell_type": "code",
   "execution_count": null,
   "id": "8eae5ec6",
   "metadata": {},
   "outputs": [],
   "source": [
    "ifsp_exit = ifsp.dropna(subset=['Exit Date'])\n",
    "ifsp_exit.info()"
   ]
  },
  {
   "cell_type": "code",
   "execution_count": null,
   "id": "ac7bc67c",
   "metadata": {},
   "outputs": [],
   "source": [
    "ifsp_exit = ifsp_exit.loc[ifsp_exit['Referral Age'] > '0 days']\n",
    "ifsp_exit.info()"
   ]
  },
  {
   "cell_type": "code",
   "execution_count": null,
   "id": "2b82a8a2",
   "metadata": {},
   "outputs": [],
   "source": [
    "all_early_exits = ifsp_exit.loc[ifsp_exit['Exit Age'] < '1092 days']\n",
    "all_early_exits\n",
    "#after discussion and looking at the distribution, we decided to give a 3 day \"grace period\" prior to the child turning 3"
   ]
  },
  {
   "cell_type": "code",
   "execution_count": null,
   "id": "ee8e39bf",
   "metadata": {},
   "outputs": [],
   "source": [
    "early_exits = all_early_exits.loc[~all_early_exits['Exit Reason'].isin(['618 - Completion of IFSP/ no longer requires services',\n",
    "                                                                      '618 - Moved out of state', '618 - Deceased'])]\n",
    "early_exits\n",
    "#Pulling out children with these reasons for exit as they would beyond Coordinator's control"
   ]
  },
  {
   "cell_type": "code",
   "execution_count": null,
   "id": "1b079fea",
   "metadata": {},
   "outputs": [],
   "source": [
    "POE_exits = ifsp_exit.groupby('POE')['Child ID'].count()\n",
    "POE_exits = POE_exits.to_frame().reset_index()\n",
    "POE_exits = POE_exits.rename(columns = {'Child ID' : 'Total Exits'})\n",
    "POE_exits\n",
    "#Total exits by POE"
   ]
  },
  {
   "cell_type": "code",
   "execution_count": null,
   "id": "b14ad5cd",
   "metadata": {},
   "outputs": [],
   "source": [
    "POE_early_exits = early_exits.groupby('POE')['Child ID'].count()\n",
    "POE_early_exits = POE_early_exits.to_frame().reset_index()\n",
    "POE_early_exits = POE_early_exits.rename(columns = {'Child ID' : 'Total Early Exits'})\n",
    "POE_early_exits\n",
    "#Total early exits by POE"
   ]
  },
  {
   "cell_type": "code",
   "execution_count": null,
   "id": "e8395b3d",
   "metadata": {},
   "outputs": [],
   "source": [
    "POE_early_exit_rate = pd.merge(POE_exits, POE_early_exits)\n",
    "POE_early_exit_rate['Early Exit Rate'] = round((POE_early_exit_rate['Total Early Exits']/\n",
    "                                                POE_early_exit_rate['Total Exits'])*100, 2)\n",
    "POE_early_exit_rate = POE_early_exit_rate.sort_values('Early Exit Rate')\n",
    "POE_early_exit_rate"
   ]
  },
  {
   "cell_type": "code",
   "execution_count": null,
   "id": "00ca2686",
   "metadata": {},
   "outputs": [],
   "source": [
    "POE_early_exit_rate['Total Early Exits'].sum()/POE_early_exit_rate['Total Exits'].sum()\n",
    "#Overall Early Exit rate for TEIS"
   ]
  },
  {
   "cell_type": "code",
   "execution_count": null,
   "id": "da930656",
   "metadata": {},
   "outputs": [],
   "source": [
    "full_palette = [\"#D9ED92\", \"#B5E48C\", \"#99D98C\", \"#76C893\", \"#52B69A\", \"#34A0A4\", \"#168AAD\", \"#1A759F\", \"#1E6091\", \"#184E77\"]\n",
    "\n",
    "main_palette = [\"#76C893\", \"#1E6091\"]"
   ]
  },
  {
   "cell_type": "code",
   "execution_count": null,
   "id": "8795ca6a",
   "metadata": {
    "scrolled": true
   },
   "outputs": [],
   "source": [
    "sns.set_theme(style=\"whitegrid\")\n",
    "eepoe = sns.barplot(x=\"Early Exit Rate\", y=\"POE\", data = POE_early_exit_rate, palette=full_palette)\n",
    "plt.xlabel(\"Early Exit Rate\")\n",
    "plt.ylabel(\"Point of Entry Office\")\n",
    "eepoe.figure.set_size_inches(10, 8)\n",
    "eepoe.axvline(37.65, linestyle = '--', color='#184E77');\n",
    "#plt.savefig('../data/eepoe.png', transparent=True)"
   ]
  },
  {
   "cell_type": "markdown",
   "id": "46aec2c5",
   "metadata": {},
   "source": [
    "    The next few cells were just be playing around to how different data looks when filtering for kids who exit more than 90 days before their 3rd birthday"
   ]
  },
  {
   "cell_type": "markdown",
   "id": "89440abb",
   "metadata": {},
   "source": [
    "very_early_exits = ifsp_exit.loc[ifsp_exit['Exit Age'] < '1005 days']\n",
    "very_early_exits"
   ]
  },
  {
   "cell_type": "markdown",
   "id": "08b22849",
   "metadata": {},
   "source": [
    "very_early_exits = very_early_exits.loc[~very_early_exits['Exit Reason'].isin(['618 - Completion of IFSP/ no longer requires services',\n",
    "                                                                      '618 - Moved out of state', '618 - Deceased'])]\n",
    "very_early_exits"
   ]
  },
  {
   "cell_type": "markdown",
   "id": "d87e946e",
   "metadata": {},
   "source": [
    "POE_vearly_exits = very_early_exits.groupby('POE')['Child ID'].count()\n",
    "POE_vearly_exits = POE_vearly_exits.to_frame().reset_index()\n",
    "POE_vearly_exits = POE_vearly_exits.rename(columns = {'Child ID' : 'Total Very Early Exits'})\n",
    "POE_vearly_exits"
   ]
  },
  {
   "cell_type": "markdown",
   "id": "83844ac3",
   "metadata": {},
   "source": [
    "POE_vearly_exit_rate = pd.merge(POE_exits, POE_vearly_exits)\n",
    "POE_vearly_exit_rate['Very Early Exit Rate'] = round((POE_vearly_exit_rate['Total Very Early Exits']/POE_vearly_exit_rate['Total Exits'])*100, 2)\n",
    "POE_vearly_exit_rate"
   ]
  },
  {
   "cell_type": "code",
   "execution_count": null,
   "id": "5f33779c",
   "metadata": {
    "scrolled": false
   },
   "outputs": [],
   "source": [
    "POE_svc_early_exits = early_exits.groupby(['POE', 'Service Coordinator'])['Child ID'].count()\n",
    "POE_svc_early_exits = POE_svc_early_exits.to_frame().reset_index()\n",
    "POE_svc_early_exits = POE_svc_early_exits.rename(columns = {'Child ID' : 'Total Early Exits'})\n",
    "POE_svc_early_exits\n",
    "#Early exits by POE and Service Coordinator"
   ]
  },
  {
   "cell_type": "code",
   "execution_count": null,
   "id": "1ef88ad2",
   "metadata": {
    "scrolled": true
   },
   "outputs": [],
   "source": [
    "POE_svc_exits = ifsp_exit.groupby(['POE', 'Service Coordinator'])['Child ID'].count()\n",
    "POE_svc_exits = POE_svc_exits.to_frame().reset_index()\n",
    "POE_svc_exits = POE_svc_exits.rename(columns = {'Child ID' : 'Total Exits'})\n",
    "POE_svc_exits = POE_svc_exits.loc[POE_svc_exits['Total Exits'] > 3]\n",
    "POE_svc_exits\n",
    "#Total exits by POE and Service Coodinator"
   ]
  },
  {
   "cell_type": "code",
   "execution_count": null,
   "id": "cb3f9388",
   "metadata": {},
   "outputs": [],
   "source": [
    "POE_svc_exits['Service Coordinator'].value_counts()\n",
    "#A few coordinators appear under two POE offices"
   ]
  },
  {
   "cell_type": "code",
   "execution_count": null,
   "id": "add18843",
   "metadata": {},
   "outputs": [],
   "source": [
    "POE_svc_early_exit_rate = pd.merge(POE_svc_exits, POE_svc_early_exits,  how='left')\n",
    "POE_svc_early_exit_rate['Early Exit Rate'] = round((POE_svc_early_exit_rate['Total Early Exits']/\n",
    "                                                POE_svc_early_exit_rate['Total Exits'])*100, 2)\n",
    "POE_svc_early_exit_rate = POE_svc_early_exit_rate.fillna(0)\n",
    "POE_svc_early_exit_rate.sort_values('Early Exit Rate', ascending=False)"
   ]
  },
  {
   "cell_type": "code",
   "execution_count": null,
   "id": "ac44b0b6",
   "metadata": {
    "scrolled": false
   },
   "outputs": [],
   "source": [
    "UC_early_exits = POE_svc_early_exit_rate.loc[POE_svc_early_exit_rate['POE'] == 'UC'].nlargest(5, 'Early Exit Rate')\n",
    "FT_early_exits = POE_svc_early_exit_rate.loc[POE_svc_early_exit_rate['POE'] == 'FT'].nlargest(5, 'Early Exit Rate')\n",
    "NW_early_exits = POE_svc_early_exit_rate.loc[POE_svc_early_exit_rate['POE'] == 'NW'].nlargest(5, 'Early Exit Rate')\n",
    "ET_early_exits = POE_svc_early_exit_rate.loc[POE_svc_early_exit_rate['POE'] == 'ET'].nlargest(5, 'Early Exit Rate')\n",
    "GN_early_exits = POE_svc_early_exit_rate.loc[POE_svc_early_exit_rate['POE'] == 'GN'].nlargest(5, 'Early Exit Rate')\n",
    "SW_early_exits = POE_svc_early_exit_rate.loc[POE_svc_early_exit_rate['POE'] == 'SW'].nlargest(5, 'Early Exit Rate')\n",
    "SE_early_exits = POE_svc_early_exit_rate.loc[POE_svc_early_exit_rate['POE'] == 'SE'].nlargest(5, 'Early Exit Rate')\n",
    "SC_early_exits = POE_svc_early_exit_rate.loc[POE_svc_early_exit_rate['POE'] == 'SC'].nlargest(5, 'Early Exit Rate')\n",
    "MD_early_exits = POE_svc_early_exit_rate.loc[POE_svc_early_exit_rate['POE'] == 'MD'].nlargest(5, 'Early Exit Rate')\n",
    "POE_svc_high_ee = pd.concat([UC_early_exits, FT_early_exits, NW_early_exits, ET_early_exits, GN_early_exits,\n",
    "                              SW_early_exits, SE_early_exits, SC_early_exits, MD_early_exits])\n",
    "POE_svc_high_ee\n",
    "#Pulling the service coordinators with the highest five individual early exit rates"
   ]
  },
  {
   "cell_type": "code",
   "execution_count": null,
   "id": "e8b43d6c",
   "metadata": {},
   "outputs": [],
   "source": [
    "sns.set_theme(style=\"whitegrid\")\n",
    "hee = sns.barplot(x=\"Early Exit Rate\", y=\"Service Coordinator\", data = POE_svc_high_ee)\n",
    "hee.figure.set_size_inches(6, 15)"
   ]
  },
  {
   "cell_type": "markdown",
   "id": "4f63944e",
   "metadata": {},
   "source": [
    "#### The next 9 visuals are of coordinators with the 5 highest rates for each POE"
   ]
  },
  {
   "cell_type": "code",
   "execution_count": null,
   "id": "e68a9836",
   "metadata": {},
   "outputs": [],
   "source": [
    "sns.set_theme(style=\"whitegrid\")\n",
    "heeft = sns.barplot(x=\"Early Exit Rate\", y=\"Service Coordinator\", data = FT_early_exits, color='#52B69A')\n",
    "heeft.axvline(38.25, linestyle = '--', color='#184E77')\n",
    "plt.title('First Tennessee - Overall Rate 38.25%', fontsize=14)\n",
    "plt.xlabel(\"Early Exit Rate\")\n",
    "plt.ylabel(\"Service Coordinator\")\n",
    "heeft.set(xlim=(0, 100))\n",
    "heeft.figure.set_size_inches(6, 4);\n",
    "#plt.savefig('../data/heeft.png', bbox_inches = 'tight', transparent=True)"
   ]
  },
  {
   "cell_type": "code",
   "execution_count": null,
   "id": "a361267f",
   "metadata": {},
   "outputs": [],
   "source": [
    "sns.set_theme(style=\"whitegrid\")\n",
    "heenw = sns.barplot(x=\"Early Exit Rate\", y=\"Service Coordinator\", data = NW_early_exits, color='#1A759F')\n",
    "heenw.axvline(44.86, linestyle = '--', color='#184E77')\n",
    "plt.title('Northwest - Overall Rate 44.86%', fontsize=14)\n",
    "plt.xlabel(\"Early Exit Rate\")\n",
    "plt.ylabel(\"Service Coordinator\")\n",
    "heenw.set(xlim=(0, 100))\n",
    "heenw.figure.set_size_inches(6, 4);\n",
    "#plt.savefig('../data/heenw.png', bbox_inches = 'tight', transparent=True)"
   ]
  },
  {
   "cell_type": "code",
   "execution_count": null,
   "id": "349fbe99",
   "metadata": {},
   "outputs": [],
   "source": [
    "sns.set_theme(style=\"whitegrid\")\n",
    "heeet = sns.barplot(x=\"Early Exit Rate\", y=\"Service Coordinator\", data = ET_early_exits, color='#168AAD')\n",
    "heeet.axvline(40.35, linestyle = '--', color='#184E77')\n",
    "plt.title('East Tennessee - Overall Rate 40.35%', fontsize=14)\n",
    "plt.xlabel(\"Early Exit Rate\")\n",
    "plt.ylabel(\"Service Coordinator\")\n",
    "heeet.set(xlim=(0, 100))\n",
    "heeet.figure.set_size_inches(6, 4);\n",
    "#plt.savefig('../data/heeet.png', bbox_inches = 'tight', transparent=True)"
   ]
  },
  {
   "cell_type": "code",
   "execution_count": null,
   "id": "b7075f76",
   "metadata": {},
   "outputs": [],
   "source": [
    "sns.set_theme(style=\"whitegrid\")\n",
    "heegn = sns.barplot(x=\"Early Exit Rate\", y=\"Service Coordinator\", data = GN_early_exits, color='#D9ED92')\n",
    "heegn.axvline(31.39, linestyle = '--', color='#184E77')\n",
    "plt.title('Greater Nashville - Overall Rate 31.39%', fontsize=14)\n",
    "plt.xlabel(\"Early Exit Rate\")\n",
    "plt.ylabel(\"Service Coordinator\")\n",
    "heegn.set(xlim=(0, 100))\n",
    "heegn.figure.set_size_inches(6, 4);\n",
    "#plt.savefig('../data/heegn.png', bbox_inches = 'tight', transparent=True)"
   ]
  },
  {
   "cell_type": "code",
   "execution_count": null,
   "id": "e95943c2",
   "metadata": {
    "scrolled": true
   },
   "outputs": [],
   "source": [
    "sns.set_theme(style=\"whitegrid\")\n",
    "heemd = sns.barplot(x=\"Early Exit Rate\", y=\"Service Coordinator\", data = MD_early_exits, color='#76C893')\n",
    "heemd.axvline(36.83, linestyle = '--', color='#184E77')\n",
    "plt.title('Memphis Delta - Overall Rate 36.83%', fontsize=14)\n",
    "plt.xlabel(\"Early Exit Rate\")\n",
    "plt.ylabel(\"Service Coordinator\")\n",
    "heemd.set(xlim=(0, 100))\n",
    "heemd.figure.set_size_inches(6, 4);\n",
    "#plt.savefig('../data/heemd.png', bbox_inches = 'tight', transparent=True)"
   ]
  },
  {
   "cell_type": "code",
   "execution_count": null,
   "id": "a5deed9f",
   "metadata": {},
   "outputs": [],
   "source": [
    "sns.set_theme(style=\"whitegrid\")\n",
    "heese = sns.barplot(x=\"Early Exit Rate\", y=\"Service Coordinator\", data = SE_early_exits, color='#99D98C')\n",
    "heese.axvline(36.33, linestyle = '--', color='#184E77')\n",
    "plt.title('Southeast - Overall Rate 36.33%', fontsize=14)\n",
    "plt.xlabel(\"Early Exit Rate\")\n",
    "plt.ylabel(\"Service Coordinator\")\n",
    "heese.set(xlim=(0, 100))\n",
    "heese.figure.set_size_inches(6, 4);\n",
    "#plt.savefig('../data/heese.png', bbox_inches = 'tight', transparent=True)"
   ]
  },
  {
   "cell_type": "code",
   "execution_count": null,
   "id": "239940c7",
   "metadata": {},
   "outputs": [],
   "source": [
    "sns.set_theme(style=\"whitegrid\")\n",
    "heesc = sns.barplot(x=\"Early Exit Rate\", y=\"Service Coordinator\", data = SC_early_exits, color='#B5E48C')\n",
    "heesc.axvline(33.75, linestyle = '--', color='#184E77')\n",
    "plt.title('South Central - Overall Rate 33.75%', fontsize=14)\n",
    "plt.xlabel(\"Early Exit Rate\")\n",
    "plt.ylabel(\"Service Coordinator\")\n",
    "heesc.set(xlim=(0, 100))\n",
    "heesc.figure.set_size_inches(6, 4);\n",
    "#plt.savefig('../data/heesc.png', bbox_inches = 'tight', transparent=True)"
   ]
  },
  {
   "cell_type": "code",
   "execution_count": null,
   "id": "a679b6cc",
   "metadata": {},
   "outputs": [],
   "source": [
    "sns.set_theme(style=\"whitegrid\")\n",
    "heesw = sns.barplot(x=\"Early Exit Rate\", y=\"Service Coordinator\", data = SW_early_exits, color='#1E6091')\n",
    "heesw.axvline(51.8, linestyle = '--', color='#184E77')\n",
    "plt.title('Southwest - Overall Rate 51.8%', fontsize=14)\n",
    "plt.xlabel(\"Early Exit Rate\")\n",
    "plt.ylabel(\"Service Coordinator\")\n",
    "heesw.set(xlim=(0, 100))\n",
    "heesw.figure.set_size_inches(6, 4);\n",
    "#plt.savefig('../data/heesw.png', bbox_inches = 'tight', transparent=True)"
   ]
  },
  {
   "cell_type": "code",
   "execution_count": null,
   "id": "04c33bce",
   "metadata": {
    "scrolled": false
   },
   "outputs": [],
   "source": [
    "sns.set_theme(style=\"whitegrid\")\n",
    "heeuc = sns.barplot(x=\"Early Exit Rate\", y=\"Service Coordinator\", data = UC_early_exits, color='#34A0A4')\n",
    "heeuc.axvline(39.44, linestyle = '--', color='#184E77')\n",
    "plt.title('Upper Cumberland - Overall Rate 39.44%', fontsize=14)\n",
    "plt.xlabel(\"Early Exit Rate\")\n",
    "plt.ylabel(\"Service Coordinator\")\n",
    "heeuc.set(xlim=(0, 100))\n",
    "heeuc.figure.set_size_inches(6, 4);\n",
    "#plt.savefig('../data/heeuc.png', bbox_inches = 'tight', transparent=True)"
   ]
  },
  {
   "cell_type": "code",
   "execution_count": null,
   "id": "d7762e3e",
   "metadata": {},
   "outputs": [],
   "source": [
    "UC_aa_early_exits = POE_svc_early_exit_rate.loc[((POE_svc_early_exit_rate['POE'] == 'UC') & (POE_svc_early_exit_rate['Early Exit Rate'] > 39.44))]\n",
    "FT_aa_early_exits = POE_svc_early_exit_rate.loc[((POE_svc_early_exit_rate['POE'] == 'FT') & (POE_svc_early_exit_rate['Early Exit Rate'] > 38.25))]\n",
    "NW_aa_early_exits = POE_svc_early_exit_rate.loc[((POE_svc_early_exit_rate['POE'] == 'NW') & (POE_svc_early_exit_rate['Early Exit Rate'] > 44.86))]\n",
    "ET_aa_early_exits = POE_svc_early_exit_rate.loc[((POE_svc_early_exit_rate['POE'] == 'ET') & (POE_svc_early_exit_rate['Early Exit Rate'] > 40.35))]\n",
    "GN_aa_early_exits = POE_svc_early_exit_rate.loc[((POE_svc_early_exit_rate['POE'] == 'GN') & (POE_svc_early_exit_rate['Early Exit Rate'] > 31.39))]\n",
    "SW_aa_early_exits = POE_svc_early_exit_rate.loc[((POE_svc_early_exit_rate['POE'] == 'SW') & (POE_svc_early_exit_rate['Early Exit Rate'] > 51.8))]\n",
    "SE_aa_early_exits = POE_svc_early_exit_rate.loc[((POE_svc_early_exit_rate['POE'] == 'SE') & (POE_svc_early_exit_rate['Early Exit Rate'] > 36.33))]\n",
    "SC_aa_early_exits = POE_svc_early_exit_rate.loc[((POE_svc_early_exit_rate['POE'] == 'SC') & (POE_svc_early_exit_rate['Early Exit Rate'] > 33.75))]\n",
    "MD_aa_early_exits = POE_svc_early_exit_rate.loc[((POE_svc_early_exit_rate['POE'] == 'MD') & (POE_svc_early_exit_rate['Early Exit Rate'] > 36.83))]\n",
    "POE_svc_abavg = pd.concat([UC_aa_early_exits, FT_aa_early_exits, NW_aa_early_exits, ET_aa_early_exits, \n",
    "                           GN_aa_early_exits, SW_aa_early_exits, SE_aa_early_exits, SC_aa_early_exits, MD_aa_early_exits])\n",
    "POE_svc_abavg\n",
    "#This contais all coordinators whose individual rate is above the rate for their POE"
   ]
  },
  {
   "cell_type": "code",
   "execution_count": null,
   "id": "d22cd355",
   "metadata": {
    "scrolled": true
   },
   "outputs": [],
   "source": [
    "sns.set_theme(style=\"whitegrid\")\n",
    "aaee = sns.barplot(x=\"Early Exit Rate\", y=\"Service Coordinator\", data = POE_svc_abavg)\n",
    "aaee.figure.set_size_inches(6, 30)"
   ]
  },
  {
   "cell_type": "code",
   "execution_count": null,
   "id": "3677aeb9",
   "metadata": {},
   "outputs": [],
   "source": [
    "POE_abavg_count = POE_svc_abavg.groupby('POE')['Service Coordinator'].count()\n",
    "POE_abavg_count = POE_abavg_count.to_frame().reset_index()\n",
    "POE_abavg_count = POE_abavg_count.rename(columns={'Service Coordinator':'Total Service Coordinators w/ high EER'})\n",
    "POE_abavg_count"
   ]
  },
  {
   "cell_type": "code",
   "execution_count": null,
   "id": "e3b20386",
   "metadata": {
    "scrolled": true
   },
   "outputs": [],
   "source": [
    "POE_svc_abavg.groupby('POE').describe()"
   ]
  },
  {
   "cell_type": "code",
   "execution_count": null,
   "id": "19acb90f",
   "metadata": {
    "scrolled": false
   },
   "outputs": [],
   "source": [
    "aaeesvc = sns.FacetGrid(POE_svc_abavg, col=\"POE\", col_wrap=3, hue=\"POE\", palette = 'CMRmap_r')\n",
    "aaeesvc.map_dataframe(sns.barplot, x=\"Service Coordinator\", y=\"Early Exit Rate\")\n",
    "aaeesvc.set_axis_labels(\"Service Coordinator\", \"Early Exit Rate\");"
   ]
  },
  {
   "cell_type": "code",
   "execution_count": null,
   "id": "63e4be18",
   "metadata": {
    "scrolled": false
   },
   "outputs": [],
   "source": [
    "POE_svc_exits.groupby('POE').describe()"
   ]
  },
  {
   "cell_type": "code",
   "execution_count": null,
   "id": "5a787a91",
   "metadata": {},
   "outputs": [],
   "source": [
    "POE_svc_count = POE_svc_exits.groupby('POE')['Service Coordinator'].count()\n",
    "POE_svc_count = POE_svc_count.to_frame().reset_index()\n",
    "POE_svc_count = POE_svc_count.rename(columns={'Service Coordinator':'Total Service Coordinators'})\n",
    "POE_svc_count"
   ]
  },
  {
   "cell_type": "code",
   "execution_count": null,
   "id": "56af6286",
   "metadata": {
    "scrolled": false
   },
   "outputs": [],
   "source": [
    "POE_aasvc_rate = pd.merge(POE_svc_count, POE_abavg_count)\n",
    "POE_aasvc_rate['Percent of Service Coordinators with high EE rate'] = round((POE_aasvc_rate['Total Service Coordinators w/ high EER']/\n",
    "                                                POE_aasvc_rate['Total Service Coordinators'])*100, 2)\n",
    "POE_aasvc_rate = POE_aasvc_rate.sort_values('Percent of Service Coordinators with high EE rate')\n",
    "POE_aasvc_rate"
   ]
  },
  {
   "cell_type": "code",
   "execution_count": null,
   "id": "d5c489de",
   "metadata": {},
   "outputs": [],
   "source": [
    "POE_aasvc_rate['Total Service Coordinators w/ high EER'].sum() / POE_aasvc_rate['Total Service Coordinators'].sum()\n",
    "#Overall proportion of service coordinators whose rate is above the average rate for their POE"
   ]
  },
  {
   "cell_type": "code",
   "execution_count": null,
   "id": "5a29df14",
   "metadata": {
    "scrolled": true
   },
   "outputs": [],
   "source": [
    "UC_early_exits"
   ]
  },
  {
   "cell_type": "code",
   "execution_count": null,
   "id": "aa2d9d78",
   "metadata": {},
   "outputs": [],
   "source": [
    "GN_early_exits"
   ]
  },
  {
   "cell_type": "code",
   "execution_count": null,
   "id": "d9c4bc6f",
   "metadata": {},
   "outputs": [],
   "source": [
    "SW_early_exits"
   ]
  },
  {
   "cell_type": "code",
   "execution_count": null,
   "id": "ace0f059",
   "metadata": {},
   "outputs": [],
   "source": [
    "NW_early_exits"
   ]
  },
  {
   "cell_type": "code",
   "execution_count": null,
   "id": "23d8c4cf",
   "metadata": {},
   "outputs": [],
   "source": [
    "ET_early_exits"
   ]
  },
  {
   "cell_type": "code",
   "execution_count": null,
   "id": "57983503",
   "metadata": {
    "scrolled": true
   },
   "outputs": [],
   "source": [
    "FT_early_exits"
   ]
  },
  {
   "cell_type": "code",
   "execution_count": null,
   "id": "c0fd9c81",
   "metadata": {},
   "outputs": [],
   "source": [
    "MD_early_exits"
   ]
  },
  {
   "cell_type": "code",
   "execution_count": null,
   "id": "f6115fbc",
   "metadata": {},
   "outputs": [],
   "source": [
    "SE_early_exits"
   ]
  },
  {
   "cell_type": "code",
   "execution_count": null,
   "id": "a4d6ae45",
   "metadata": {},
   "outputs": [],
   "source": [
    "SC_early_exits"
   ]
  },
  {
   "cell_type": "code",
   "execution_count": null,
   "id": "8ede90d0",
   "metadata": {},
   "outputs": [],
   "source": [
    "for index, row in POE_svc_abavg.iterrows():\n",
    "    if row['POE'] == \"SW\":\n",
    "        POE_svc_abavg.loc[index, 'POE Early Exit Rate'] = '51.80'\n",
    "    elif row['POE'] == \"NW\":\n",
    "        POE_svc_abavg.loc[index, 'POE Early Exit Rate'] = '44.86'\n",
    "    elif row['POE'] == \"ET\":\n",
    "        POE_svc_abavg.loc[index, 'POE Early Exit Rate'] = '40.65'\n",
    "    elif row['POE'] == \"UC\":\n",
    "        POE_svc_abavg.loc[index, 'POE Early Exit Rate'] = '39.44'\n",
    "    elif row['POE'] == \"FT\":\n",
    "        POE_svc_abavg.loc[index, 'POE Early Exit Rate'] = '38.25'\n",
    "    elif row['POE'] == \"MD\":\n",
    "        POE_svc_abavg.loc[index, 'POE Early Exit Rate'] = '36.83'\n",
    "    elif row['POE'] == \"SE\":\n",
    "        POE_svc_abavg.loc[index, 'POE Early Exit Rate'] = '36.33'\n",
    "    elif row['POE'] == \"SC\":\n",
    "        POE_svc_abavg.loc[index, 'POE Early Exit Rate'] = '33.75'\n",
    "    elif row['POE'] == \"GN\":\n",
    "        POE_svc_abavg.loc[index, \"POE Early Exit Rate\"] = '31.39'\n",
    "    "
   ]
  },
  {
   "cell_type": "code",
   "execution_count": null,
   "id": "1b770f39",
   "metadata": {
    "scrolled": true
   },
   "outputs": [],
   "source": [
    "POE_svc_abavg"
   ]
  },
  {
   "cell_type": "code",
   "execution_count": null,
   "id": "26cd1f61",
   "metadata": {},
   "outputs": [],
   "source": [
    "ifsp_exit['Exit Year'] = ifsp_exit['Exit Date'].dt.year\n",
    "ifsp_exit.head()"
   ]
  },
  {
   "cell_type": "code",
   "execution_count": null,
   "id": "665d3d2f",
   "metadata": {
    "scrolled": true
   },
   "outputs": [],
   "source": [
    "poe_exityr = ifsp_exit.groupby(['POE', 'Exit Year'])['Child ID'].count()\n",
    "poe_exityr = poe_exityr.to_frame().reset_index()\n",
    "poe_exityr = poe_exityr.rename(columns = {'Child ID' : 'Total Exits'})\n",
    "poe_exityr"
   ]
  },
  {
   "cell_type": "code",
   "execution_count": null,
   "id": "9e318795",
   "metadata": {},
   "outputs": [],
   "source": [
    "early_exits['Exit Year'] = early_exits['Exit Date'].dt.year\n",
    "early_exits.head()"
   ]
  },
  {
   "cell_type": "code",
   "execution_count": null,
   "id": "f56dc5cb",
   "metadata": {},
   "outputs": [],
   "source": [
    "poe_early_exityr = early_exits.groupby(['POE', 'Exit Year'])['Child ID'].count()\n",
    "poe_early_exityr = poe_early_exityr.to_frame().reset_index()\n",
    "poe_early_exityr = poe_early_exityr.rename(columns = {'Child ID' : 'Total Early Exits'})\n",
    "poe_early_exityr"
   ]
  },
  {
   "cell_type": "code",
   "execution_count": null,
   "id": "ca502058",
   "metadata": {},
   "outputs": [],
   "source": [
    "POE_yr_early_exit_rate = pd.merge(poe_exityr, poe_early_exityr, how='left')\n",
    "POE_yr_early_exit_rate['Early Exit Rate'] = round((POE_yr_early_exit_rate['Total Early Exits']/\n",
    "                                                POE_yr_early_exit_rate['Total Exits'])*100, 2)\n",
    "POE_yr_early_exit_rate = POE_yr_early_exit_rate.fillna(0)\n",
    "POE_yr_early_exit_rate"
   ]
  },
  {
   "cell_type": "code",
   "execution_count": null,
   "id": "8d606a78",
   "metadata": {
    "scrolled": true
   },
   "outputs": [],
   "source": [
    "py = sns.FacetGrid(POE_yr_early_exit_rate, col=\"POE\", col_wrap=3, hue=\"POE\", palette = 'crest')\n",
    "py.map_dataframe(sns.lineplot, x=\"Exit Year\", y=\"Early Exit Rate\")\n",
    "py.set_axis_labels(\"Exit Year\", \"Early Exit Rate\");\n",
    "#plt.savefig('../data/early_exit_rate_by_poe_+_year', bbox_inches = 'tight', transparent=True)"
   ]
  },
  {
   "cell_type": "code",
   "execution_count": null,
   "id": "9db99dd3",
   "metadata": {},
   "outputs": [],
   "source": []
  }
 ],
 "metadata": {
  "kernelspec": {
   "display_name": "Python 3 (ipykernel)",
   "language": "python",
   "name": "python3"
  },
  "language_info": {
   "codemirror_mode": {
    "name": "ipython",
    "version": 3
   },
   "file_extension": ".py",
   "mimetype": "text/x-python",
   "name": "python",
   "nbconvert_exporter": "python",
   "pygments_lexer": "ipython3",
   "version": "3.9.12"
  }
 },
 "nbformat": 4,
 "nbformat_minor": 5
}
